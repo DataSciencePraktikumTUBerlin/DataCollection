{
 "cells": [
  {
   "cell_type": "markdown",
   "metadata": {},
   "source": [
    "# Preprocessing first selected Datasets (*Filter1*)\n",
    "Different kinds of Energy information was contemplated to perform the comparison with the financial data in this work. Finally, after comparing different sources and indicator concepts the selected **datasets** were the ones indicated in the file *Indicators_sources.txt*. The arguments for this desicion, instead of the first thought more \"technological\" indicators, lay on the availability and homogeinity of the data first and for most.\n",
    "\n",
    "*THE NUMBER FORMAT OF THIS .CSV NEEDS REVISION*"
   ]
  },
  {
   "cell_type": "markdown",
   "metadata": {},
   "source": [
    "## 1. Obtaining a *.csv* from the raw source (for every source where needed)\n",
    "This was done manually for the *.xlsx* files. The selected Spreadsheets were selected and saved as *.csv*. Original files are stored in the **raw_data** directory and resulting on the **source_data** directory. (csv UTF-8 format was selected)."
   ]
  },
  {
   "cell_type": "markdown",
   "metadata": {},
   "source": [
    "## 2. Generic preprocessing pipeline for all source files\n",
    "Each step is applied depending on the structure and format of the original table."
   ]
  },
  {
   "cell_type": "markdown",
   "metadata": {},
   "source": [
    "### 2.1 Import pandas"
   ]
  },
  {
   "cell_type": "code",
   "execution_count": 1,
   "metadata": {},
   "outputs": [],
   "source": [
    "import pandas as pd"
   ]
  },
  {
   "cell_type": "markdown",
   "metadata": {},
   "source": [
    "### 2.2 Set particular values"
   ]
  },
  {
   "cell_type": "code",
   "execution_count": 11,
   "metadata": {},
   "outputs": [],
   "source": [
    "source_name = 'wbank_Indic.csv'\n",
    "# Select Column as Index\n",
    "index = ['Country Name']\n",
    "# Assign selected indexes\n",
    "sel_index = ['United States', 'India', 'Germany','China']\n",
    "# Select years\n",
    "#Already comes in long format\n",
    "years=[]\n",
    "# Select other Columns as ID's\n",
    "other_ids = ['Access to electricity (% of rural population with access) [1.2_ACCESS.ELECTRICITY.RURAL]','Access to electricity (% of total population) [1.1_ACCESS.ELECTRICITY.TOT]','Access to electricity (% of urban population with access) [1.3_ACCESS.ELECTRICITY.URBAN]','Energy intensity level of primary energy (MJ/2011 USD PPP) [6.1_PRIMARY.ENERGY.INTENSITY]','Renewable electricity share of total electricity output (%) [4.1_SHARE.RE.IN.ELECTRICITY]','Renewable energy share of TFEC (%) [2.1_SHARE.TOTAL.RE.IN.TFEC]']"
   ]
  },
  {
   "cell_type": "markdown",
   "metadata": {},
   "source": [
    "### 2.3 Apply all the changes to obtain the desired resumed long dataframe"
   ]
  },
  {
   "cell_type": "code",
   "execution_count": 15,
   "metadata": {},
   "outputs": [],
   "source": [
    "df = pd.read_csv(\"Energy_Data\\source_data\\\\\" + source_name)\n",
    "df_p = df[index+years+other_ids]\n",
    "df_p=df_p.rename(columns={'Country Name':'Country'})\n",
    "#Already comes in long format\n",
    "#df_p=pd.melt(df_p, id_vars=index+other_ids)\n",
    "#df_p=df_p.rename(columns={'variable':'year'})\n",
    "df_p=df_p.set_index('Country')\n",
    "df_p = df_p.loc[sel_index]\n",
    "df_p=df_p.rename(columns={'Access to electricity (% of rural population with access) [1.2_ACCESS.ELECTRICITY.RURAL]':'Rural_elect_access'})\n",
    "df_p=df_p.rename(columns={'Access to electricity (% of total population) [1.1_ACCESS.ELECTRICITY.TOT]':'Electricity_access'})\n",
    "df_p=df_p.rename(columns={'Access to electricity (% of urban population with access) [1.3_ACCESS.ELECTRICITY.URBAN]':'Urban_elect_access'})\n",
    "df_p=df_p.rename(columns={'Energy intensity level of primary energy (MJ/2011 USD PPP) [6.1_PRIMARY.ENERGY.INTENSITY]':'Prim_Energy_Intensity'})\n",
    "df_p=df_p.rename(columns={'Renewable electricity share of total electricity output (%) [4.1_SHARE.RE.IN.ELECTRICITY]':'Renewable_elect_share'})\n",
    "df_p=df_p.rename(columns={'Renewable energy share of TFEC (%) [2.1_SHARE.TOTAL.RE.IN.TFEC]':'Renewable_TFEC_share'})"
   ]
  },
  {
   "cell_type": "code",
   "execution_count": 16,
   "metadata": {},
   "outputs": [
    {
     "data": {
      "text/html": [
       "<div>\n",
       "<style scoped>\n",
       "    .dataframe tbody tr th:only-of-type {\n",
       "        vertical-align: middle;\n",
       "    }\n",
       "\n",
       "    .dataframe tbody tr th {\n",
       "        vertical-align: top;\n",
       "    }\n",
       "\n",
       "    .dataframe thead th {\n",
       "        text-align: right;\n",
       "    }\n",
       "</style>\n",
       "<table border=\"1\" class=\"dataframe\">\n",
       "  <thead>\n",
       "    <tr style=\"text-align: right;\">\n",
       "      <th></th>\n",
       "      <th>Rural_elect_access</th>\n",
       "      <th>Electricity_access</th>\n",
       "      <th>Urban_elect_access</th>\n",
       "      <th>Prim_Energy_Intensity</th>\n",
       "      <th>Renewable_elect_share</th>\n",
       "      <th>Renewable_TFEC_share</th>\n",
       "    </tr>\n",
       "  </thead>\n",
       "  <tbody>\n",
       "    <tr>\n",
       "      <th>count</th>\n",
       "      <td>6.800000e+01</td>\n",
       "      <td>6.800000e+01</td>\n",
       "      <td>6.800000e+01</td>\n",
       "      <td>6.400000e+01</td>\n",
       "      <td>6.400000e+01</td>\n",
       "      <td>6.400000e+01</td>\n",
       "    </tr>\n",
       "    <tr>\n",
       "      <th>mean</th>\n",
       "      <td>2.567021e+14</td>\n",
       "      <td>2.743659e+14</td>\n",
       "      <td>2.316032e+14</td>\n",
       "      <td>5.222117e+14</td>\n",
       "      <td>2.843657e+14</td>\n",
       "      <td>4.220881e+14</td>\n",
       "    </tr>\n",
       "    <tr>\n",
       "      <th>std</th>\n",
       "      <td>3.941189e+14</td>\n",
       "      <td>4.177383e+14</td>\n",
       "      <td>4.117089e+14</td>\n",
       "      <td>2.593413e+14</td>\n",
       "      <td>2.742875e+14</td>\n",
       "      <td>2.567311e+14</td>\n",
       "    </tr>\n",
       "    <tr>\n",
       "      <th>min</th>\n",
       "      <td>4.360000e+01</td>\n",
       "      <td>5.580000e+01</td>\n",
       "      <td>8.760000e+01</td>\n",
       "      <td>4.471228e+12</td>\n",
       "      <td>1.526335e+13</td>\n",
       "      <td>3.665184e+13</td>\n",
       "    </tr>\n",
       "    <tr>\n",
       "      <th>25%</th>\n",
       "      <td>1.000000e+02</td>\n",
       "      <td>1.000000e+02</td>\n",
       "      <td>1.000000e+02</td>\n",
       "      <td>4.091580e+14</td>\n",
       "      <td>1.340922e+14</td>\n",
       "      <td>1.516253e+14</td>\n",
       "    </tr>\n",
       "    <tr>\n",
       "      <th>50%</th>\n",
       "      <td>1.000000e+02</td>\n",
       "      <td>1.000000e+02</td>\n",
       "      <td>1.000000e+02</td>\n",
       "      <td>5.591644e+14</td>\n",
       "      <td>1.662926e+14</td>\n",
       "      <td>4.220186e+14</td>\n",
       "    </tr>\n",
       "    <tr>\n",
       "      <th>75%</th>\n",
       "      <td>5.527362e+14</td>\n",
       "      <td>7.037785e+14</td>\n",
       "      <td>9.361456e+13</td>\n",
       "      <td>6.741156e+14</td>\n",
       "      <td>2.326848e+14</td>\n",
       "      <td>5.564553e+14</td>\n",
       "    </tr>\n",
       "    <tr>\n",
       "      <th>max</th>\n",
       "      <td>9.999669e+14</td>\n",
       "      <td>9.999849e+14</td>\n",
       "      <td>9.999408e+14</td>\n",
       "      <td>9.974489e+14</td>\n",
       "      <td>9.267474e+14</td>\n",
       "      <td>9.630062e+14</td>\n",
       "    </tr>\n",
       "  </tbody>\n",
       "</table>\n",
       "</div>"
      ],
      "text/plain": [
       "       Rural_elect_access  Electricity_access  Urban_elect_access  \\\n",
       "count        6.800000e+01        6.800000e+01        6.800000e+01   \n",
       "mean         2.567021e+14        2.743659e+14        2.316032e+14   \n",
       "std          3.941189e+14        4.177383e+14        4.117089e+14   \n",
       "min          4.360000e+01        5.580000e+01        8.760000e+01   \n",
       "25%          1.000000e+02        1.000000e+02        1.000000e+02   \n",
       "50%          1.000000e+02        1.000000e+02        1.000000e+02   \n",
       "75%          5.527362e+14        7.037785e+14        9.361456e+13   \n",
       "max          9.999669e+14        9.999849e+14        9.999408e+14   \n",
       "\n",
       "       Prim_Energy_Intensity  Renewable_elect_share  Renewable_TFEC_share  \n",
       "count           6.400000e+01           6.400000e+01          6.400000e+01  \n",
       "mean            5.222117e+14           2.843657e+14          4.220881e+14  \n",
       "std             2.593413e+14           2.742875e+14          2.567311e+14  \n",
       "min             4.471228e+12           1.526335e+13          3.665184e+13  \n",
       "25%             4.091580e+14           1.340922e+14          1.516253e+14  \n",
       "50%             5.591644e+14           1.662926e+14          4.220186e+14  \n",
       "75%             6.741156e+14           2.326848e+14          5.564553e+14  \n",
       "max             9.974489e+14           9.267474e+14          9.630062e+14  "
      ]
     },
     "execution_count": 16,
     "metadata": {},
     "output_type": "execute_result"
    }
   ],
   "source": [
    "df_p.describe()"
   ]
  }
 ],
 "metadata": {
  "kernelspec": {
   "display_name": "Python 3",
   "language": "python",
   "name": "python3"
  },
  "language_info": {
   "codemirror_mode": {
    "name": "ipython",
    "version": 3
   },
   "file_extension": ".py",
   "mimetype": "text/x-python",
   "name": "python",
   "nbconvert_exporter": "python",
   "pygments_lexer": "ipython3",
   "version": "3.8.3"
  }
 },
 "nbformat": 4,
 "nbformat_minor": 4
}
