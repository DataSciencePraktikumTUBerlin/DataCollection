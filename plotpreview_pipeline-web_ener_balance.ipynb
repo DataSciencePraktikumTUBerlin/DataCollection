{
 "cells": [
  {
   "cell_type": "markdown",
   "metadata": {},
   "source": [
    "# Preprocessing first selected Datasets\n",
    "This second **pipeline** form shows how to take the dataframes obtained from *Filter1*, or any sucesive *Filter*, **pipeline** and create a basic plot showing the trend of a given indicator in time."
   ]
  },
  {
   "cell_type": "markdown",
   "metadata": {},
   "source": [
    "## 1. Obtaining a *.csv* from the raw source (for every source where needed)\n",
    "This was done manually for the *.xlsx* files. The selected Spreadsheets were selected and saved as *.csv*. Original files are stored in the **raw_data** directory and resulting on the **source_data** directory. (csv UTF-8 format was selected)."
   ]
  },
  {
   "cell_type": "markdown",
   "metadata": {},
   "source": [
    "## 2. Generic preprocessing pipeline for all source files\n",
    "Each step is applied depending on the structure and format of the original table."
   ]
  },
  {
   "cell_type": "markdown",
   "metadata": {},
   "source": [
    "### 2.1 Import required packages"
   ]
  },
  {
   "cell_type": "code",
   "execution_count": 1,
   "metadata": {},
   "outputs": [],
   "source": [
    "import pandas as pd\n",
    "import numpy as np\n",
    "import seaborn as sns\n",
    "import matplotlib.pyplot as plt"
   ]
  },
  {
   "cell_type": "markdown",
   "metadata": {},
   "source": [
    "### 2.2 Set particular values"
   ]
  },
  {
   "cell_type": "code",
   "execution_count": 2,
   "metadata": {},
   "outputs": [],
   "source": [
    "source_name = '\\web_ener_balance.csv'\n",
    "# Select Column as Index\n",
    "index = ['Country']\n",
    "# Assign selected indexes\n",
    "sel_index = ['United States', 'India', 'Germany',\"People's Republic of China\"]\n",
    "# Select years\n",
    "years=['2000','2001','2002','2003','2004','2005','2006','2007','2008','2009','2010','2011','2012','2013','2014','2015','2016','2017','2018']\n",
    "# Select other Columns as ID's\n",
    "other_ids = ['Product', 'Flow']"
   ]
  },
  {
   "cell_type": "markdown",
   "metadata": {},
   "source": [
    "### 2.3 Apply all the changes to obtain the desired resumed long dataframe"
   ]
  },
  {
   "cell_type": "code",
   "execution_count": 3,
   "metadata": {},
   "outputs": [],
   "source": [
    "df = pd.read_csv('Energy_Data\\source_data' + source_name)\n",
    "df_p = df[index+years+other_ids]\n",
    "df_p=pd.melt(df_p, id_vars=index+other_ids)\n",
    "df_p=df_p.set_index(index)\n",
    "df_p = df_p.loc[sel_index]\n",
    "df_p=df_p.rename(columns={'variable':'year'})"
   ]
  },
  {
   "cell_type": "markdown",
   "metadata": {},
   "source": [
    "### 2.4 Do further necessary adjustments"
   ]
  },
  {
   "cell_type": "code",
   "execution_count": 4,
   "metadata": {},
   "outputs": [],
   "source": [
    "# identify anomalies in numeric inputs and replace them\n",
    "df_p.value=df_p.value.replace(['..', 'c'], '')\n",
    "df_p.value=pd.to_numeric(df_p.value)\n",
    "#Instedad of 'to_numeric()', 'astype()' or '.apply()' could have been used"
   ]
  },
  {
   "cell_type": "markdown",
   "metadata": {},
   "source": [
    "## 3. Plot the desired indicators\n",
    "Here we supposed that **df_p** is handed in in *long format*"
   ]
  },
  {
   "cell_type": "markdown",
   "metadata": {},
   "source": [
    "### 3.1 Create a DF_Subset to plot\n",
    "Here an internal understanding of the source data is required to know which Raws to select, according to the desired *id's*"
   ]
  },
  {
   "cell_type": "markdown",
   "metadata": {},
   "source": [
    "**First we identify which columns (ids) are there to select from**\n",
    "For all cases 'year' and 'value' needs to be available for pllotting afterwards"
   ]
  },
  {
   "cell_type": "code",
   "execution_count": 5,
   "metadata": {},
   "outputs": [
    {
     "data": {
      "text/plain": [
       "Index(['Product', 'Flow', 'year', 'value'], dtype='object')"
      ]
     },
     "execution_count": 5,
     "metadata": {},
     "output_type": "execute_result"
    }
   ],
   "source": [
    "df_p.columns"
   ]
  },
  {
   "cell_type": "markdown",
   "metadata": {},
   "source": [
    "In this case we can further select from 'Product' and 'Flow'. In the most simple case, no extra coumns will be available (e.g. **other_ids = []**)"
   ]
  },
  {
   "cell_type": "markdown",
   "metadata": {},
   "source": [
    "**Now we look into the unique options in the available extra ids to select our interest**"
   ]
  },
  {
   "cell_type": "code",
   "execution_count": 6,
   "metadata": {},
   "outputs": [
    {
     "data": {
      "text/plain": [
       "array(['Coal, peat and oil shale', 'Crude, NGL and feedstocks',\n",
       "       'Oil products', 'Natural gas', 'Nuclear', 'Renewables and waste',\n",
       "       'Electricity', 'Heat', 'Total', 'Fossil fuels',\n",
       "       'Renewable sources'], dtype=object)"
      ]
     },
     "execution_count": 6,
     "metadata": {},
     "output_type": "execute_result"
    }
   ],
   "source": [
    "df_p.Product.unique()"
   ]
  },
  {
   "cell_type": "code",
   "execution_count": 7,
   "metadata": {},
   "outputs": [
    {
     "data": {
      "text/plain": [
       "array(['Production (ktoe)', 'Imports (ktoe)', 'Exports (ktoe)',\n",
       "       'Total energy supply (ktoe)',\n",
       "       'Electricity, CHP and heat plants (ktoe)',\n",
       "       'Oil refineries, transformation (ktoe)',\n",
       "       'Total final consumption (ktoe)', 'Industry (ktoe)',\n",
       "       'Transport (ktoe)', 'Residential (ktoe)',\n",
       "       'Commercial and public services (ktoe)',\n",
       "       'Other final consumption (ktoe)', 'Electricity output (GWh)'],\n",
       "      dtype=object)"
      ]
     },
     "execution_count": 7,
     "metadata": {},
     "output_type": "execute_result"
    }
   ],
   "source": [
    "df_p.Flow.unique()"
   ]
  },
  {
   "cell_type": "markdown",
   "metadata": {},
   "source": [
    "**A selection is possible from the give options of each id**\n",
    "Note that not *all* the options of one id correspond with all the options of the other one"
   ]
  },
  {
   "cell_type": "code",
   "execution_count": 8,
   "metadata": {},
   "outputs": [],
   "source": [
    "# Here a Loop may be applicable, defining the following characteristics as lists instead \n",
    "# of strings and then enabling multiple plot generation\n",
    "select_country='Germany'\n",
    "select_id = ['Product','Flow']\n",
    "select_option = ['Renewable sources','Electricity output (GWh)']"
   ]
  },
  {
   "cell_type": "code",
   "execution_count": 9,
   "metadata": {},
   "outputs": [
    {
     "data": {
      "text/html": [
       "<div>\n",
       "<style scoped>\n",
       "    .dataframe tbody tr th:only-of-type {\n",
       "        vertical-align: middle;\n",
       "    }\n",
       "\n",
       "    .dataframe tbody tr th {\n",
       "        vertical-align: top;\n",
       "    }\n",
       "\n",
       "    .dataframe thead th {\n",
       "        text-align: right;\n",
       "    }\n",
       "</style>\n",
       "<table border=\"1\" class=\"dataframe\">\n",
       "  <thead>\n",
       "    <tr style=\"text-align: right;\">\n",
       "      <th></th>\n",
       "      <th>Product</th>\n",
       "      <th>Flow</th>\n",
       "      <th>year</th>\n",
       "      <th>value</th>\n",
       "    </tr>\n",
       "    <tr>\n",
       "      <th>Country</th>\n",
       "      <th></th>\n",
       "      <th></th>\n",
       "      <th></th>\n",
       "      <th></th>\n",
       "    </tr>\n",
       "  </thead>\n",
       "  <tbody>\n",
       "    <tr>\n",
       "      <th>Germany</th>\n",
       "      <td>Renewable sources</td>\n",
       "      <td>Electricity output (GWh)</td>\n",
       "      <td>2000</td>\n",
       "      <td>35475.0</td>\n",
       "    </tr>\n",
       "    <tr>\n",
       "      <th>Germany</th>\n",
       "      <td>Renewable sources</td>\n",
       "      <td>Electricity output (GWh)</td>\n",
       "      <td>2001</td>\n",
       "      <td>37895.0</td>\n",
       "    </tr>\n",
       "    <tr>\n",
       "      <th>Germany</th>\n",
       "      <td>Renewable sources</td>\n",
       "      <td>Electricity output (GWh)</td>\n",
       "      <td>2002</td>\n",
       "      <td>44477.0</td>\n",
       "    </tr>\n",
       "    <tr>\n",
       "      <th>Germany</th>\n",
       "      <td>Renewable sources</td>\n",
       "      <td>Electricity output (GWh)</td>\n",
       "      <td>2003</td>\n",
       "      <td>46670.0</td>\n",
       "    </tr>\n",
       "    <tr>\n",
       "      <th>Germany</th>\n",
       "      <td>Renewable sources</td>\n",
       "      <td>Electricity output (GWh)</td>\n",
       "      <td>2004</td>\n",
       "      <td>57957.0</td>\n",
       "    </tr>\n",
       "  </tbody>\n",
       "</table>\n",
       "</div>"
      ],
      "text/plain": [
       "                   Product                      Flow  year    value\n",
       "Country                                                            \n",
       "Germany  Renewable sources  Electricity output (GWh)  2000  35475.0\n",
       "Germany  Renewable sources  Electricity output (GWh)  2001  37895.0\n",
       "Germany  Renewable sources  Electricity output (GWh)  2002  44477.0\n",
       "Germany  Renewable sources  Electricity output (GWh)  2003  46670.0\n",
       "Germany  Renewable sources  Electricity output (GWh)  2004  57957.0"
      ]
     },
     "execution_count": 9,
     "metadata": {},
     "output_type": "execute_result"
    }
   ],
   "source": [
    "df_graph = df_p.loc[select_country]\n",
    "for i in range(0,len(select_id)-1):\n",
    "    df_graph=df_graph[df_graph[select_id[i]]==select_option[i]]  \n",
    "df_graph.head()"
   ]
  },
  {
   "cell_type": "markdown",
   "metadata": {},
   "source": [
    "### 3.2 Set other characteristics of the plot"
   ]
  },
  {
   "cell_type": "code",
   "execution_count": 10,
   "metadata": {},
   "outputs": [],
   "source": [
    "# Here some features of the seaborn package or an eventual coupling \n",
    "# with R to use the GGPlot library is to be introduced"
   ]
  },
  {
   "cell_type": "markdown",
   "metadata": {},
   "source": [
    "### 3.3 Create the Plot"
   ]
  },
  {
   "cell_type": "code",
   "execution_count": 11,
   "metadata": {},
   "outputs": [
    {
     "data": {
      "image/png": "[encoded data removed]",
      "text/plain": [
       "<Figure size 864x360 with 1 Axes>"
      ]
     },
     "metadata": {
      "needs_background": "light"
     },
     "output_type": "display_data"
    }
   ],
   "source": [
    "# Set figure size (width, height) in inches \n",
    "fig, ax = plt.subplots(figsize = ( 12 , 5 )) \n",
    "  \n",
    "# Plot the scatterplot \n",
    "sns.scatterplot( ax = ax , x='year', y='value', data=df_graph) \n",
    "  \n",
    "# Set label for x-axis \n",
    "ax.set_xlabel( 'Years' , size = 12 ) \n",
    "  \n",
    "# Set label for y-axis \n",
    "ax.set_ylabel( select_option[len(select_id)-1] , size = 12 ) \n",
    "  \n",
    "# Set title for plot \n",
    "ax.set_title( select_option[0]+' in '+select_country , size = 24 ) \n",
    "  \n",
    "# Display figure \n",
    "plt.show() "
   ]
  }
 ],
 "metadata": {
  "kernelspec": {
   "display_name": "Python 3",
   "language": "python",
   "name": "python3"
  },
  "language_info": {
   "codemirror_mode": {
    "name": "ipython",
    "version": 3
   },
   "file_extension": ".py",
   "mimetype": "text/x-python",
   "name": "python",
   "nbconvert_exporter": "python",
   "pygments_lexer": "ipython3",
   "version": "3.8.3"
  }
 },
 "nbformat": 4,
 "nbformat_minor": 4
}
