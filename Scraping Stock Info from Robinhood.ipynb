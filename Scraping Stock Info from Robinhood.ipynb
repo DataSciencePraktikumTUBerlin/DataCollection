{
 "cells": [
  {
   "cell_type": "markdown",
   "metadata": {},
   "source": [
    "# Scraping Stock Info from Robinhood\n",
    " Robinhood provides a list with a handfull of stocks in the renewable energy sector. Here, we scrape this list and save it as a CSV file, which we can use in order to find additional financial info about said companies, as well as potentionally trying to build our own financial index."
   ]
  },
  {
   "cell_type": "markdown",
   "metadata": {},
   "source": [
    "## 1. Importing libraries"
   ]
  },
  {
   "cell_type": "code",
   "execution_count": 1,
   "metadata": {},
   "outputs": [],
   "source": [
    "from bs4 import BeautifulSoup\n",
    "import requests\n",
    "\n",
    "import pandas as pd"
   ]
  },
  {
   "cell_type": "markdown",
   "metadata": {},
   "source": [
    "## 2. Scarping HTML page contents"
   ]
  },
  {
   "cell_type": "code",
   "execution_count": 2,
   "metadata": {},
   "outputs": [],
   "source": [
    "r = requests.get('https://robinhood.com/collections/renewable-energy-generation')\n",
    "soup = BeautifulSoup(r.text, features=\"lxml\")"
   ]
  },
  {
   "cell_type": "markdown",
   "metadata": {},
   "source": [
    "### 2.1. Scraping table column names\n",
    "\n",
    "The table headers in the site are as follows: **Name, Symbol, Price, Today, Market Cap, Analyst Ratings**\n",
    "* **Name** is the company name.\n",
    "* **Symbol** is the symbol under which a company is listed on the exchange. We will use this later on to find additional data about a company from [Yahoo Finance](https://finance.yahoo.com/).\n",
    "* **Today** is the day-to-day price change of a given stock and isn't something which neceserally interests us. \n",
    "* **Market Cap** is the market capitalization of a given company. This will be needed, if we would like to build our own stock index. We will use the relative market capitalization, in order to weight how much a given company will affect our index.\n",
    "* **Analyst Ratings** is simply how much a given stock is a recommended buy, if at all. Again, this data isn't of particular use to us."
   ]
  },
  {
   "cell_type": "code",
   "execution_count": 3,
   "metadata": {},
   "outputs": [],
   "source": [
    "TABLE_HEADER_HTML_CLASS = 'kg7H31Ap4MW-dg1bFNOGP'\n",
    "\n",
    "html_table_headers = soup.findAll('div', class_=TABLE_HEADER_HTML_CLASS)\n",
    "csv_table_headers = []\n",
    "\n",
    "for th in html_table_headers:\n",
    "    th_text = th.text.lower()\n",
    "\n",
    "    # 'Today' and 'Analyst ratings' values are irrelevant\n",
    "    if th_text in ['today', 'analyst ratings']:\n",
    "        continue\n",
    "\n",
    "    csv_table_headers.append(th_text)"
   ]
  },
  {
   "cell_type": "markdown",
   "metadata": {},
   "source": [
    "### 2.2. Scraping table rows"
   ]
  },
  {
   "cell_type": "code",
   "execution_count": 4,
   "metadata": {},
   "outputs": [],
   "source": [
    "TABLE_ROW_HTML_CLASS = '_2ee2nmx5AR9phitIxZGPZl'\n",
    "\n",
    "html_table_rows = soup.findAll('tr', class_=TABLE_ROW_HTML_CLASS)\n",
    "csv_table_rows = []\n",
    "\n",
    "for tr in html_table_rows:\n",
    "    tr_text = list(map(lambda x: x.text, tr))\n",
    "    \n",
    "    tr_text.pop(3) # Remove 'Today' value\n",
    "    tr_text.pop(4) # Remove 'Analyist Ratings' value\n",
    "\n",
    "    csv_table_rows.append(tr_text)\n",
    "\n",
    "df = pd.DataFrame(csv_table_rows, columns=csv_table_headers)"
   ]
  },
  {
   "cell_type": "markdown",
   "metadata": {},
   "source": [
    "## 3. Cleaning the dataset"
   ]
  },
  {
   "cell_type": "markdown",
   "metadata": {},
   "source": [
    "### 3.1. Price\n",
    "**Price** is given in the form \"*$XX.XX*\". We would like to keep this information in the form of a number in order to do mathematical operations later on. \n",
    "\n",
    "First, we take the number value from the string, then we parse it to a float datatype."
   ]
  },
  {
   "cell_type": "code",
   "execution_count": 5,
   "metadata": {},
   "outputs": [],
   "source": [
    "df['price'] = df['price'].map(lambda x: x.split('$')[1]) \n",
    "df['price'] = df['price'].map(lambda x: float(x))"
   ]
  },
  {
   "cell_type": "markdown",
   "metadata": {},
   "source": [
    "### 3.2. Market Cap\n",
    "*Market Cap* is given in the form \"*XX.XXK|M|B*\" or if there's no information \"*-*\". Again, we take the decimal number from the string and convert it to a float. Then, we multiply this decimal by either a thousand, a million, or a billion, depending on what is given. If there is no information about a company's market capitalization, we just set this value to *None*."
   ]
  },
  {
   "cell_type": "code",
   "execution_count": 6,
   "metadata": {},
   "outputs": [],
   "source": [
    "billion  = 10 ** 9\n",
    "million  = 10 ** 6\n",
    "thousand = 10 ** 3\n",
    "\n",
    "for i, row in df.iterrows():\n",
    "    market_cap = row['market cap']\n",
    "\n",
    "    if 'B' in market_cap:\n",
    "        market_cap = float(market_cap.split('B')[0]) * billion\n",
    "    elif 'M' in market_cap:\n",
    "        market_cap = float(market_cap.split('M')[0]) * million\n",
    "    elif 'K' in market_cap:\n",
    "        market_cap = float(market_cap.split('K')[0]) * thousand\n",
    "    else:\n",
    "        market_cap = None\n",
    "\n",
    "    df.loc[i, 'market cap'] = market_cap"
   ]
  },
  {
   "cell_type": "markdown",
   "metadata": {},
   "source": [
    "## 4. Saving the dataset\n",
    "\n",
    "After we've scraped our data, removed columns, which don't interest us, and, finally, formatted our data, we can save it for later use."
   ]
  },
  {
   "cell_type": "code",
   "execution_count": 8,
   "metadata": {},
   "outputs": [],
   "source": [
    "df.to_csv('./Finance_Data/robinhood_stocks.csv', index=False)"
   ]
  },
  {
   "cell_type": "code",
   "execution_count": null,
   "metadata": {},
   "outputs": [],
   "source": []
  }
 ],
 "metadata": {
  "kernelspec": {
   "display_name": "Python 3",
   "language": "python",
   "name": "python3"
  },
  "language_info": {
   "codemirror_mode": {
    "name": "ipython",
    "version": 3
   },
   "file_extension": ".py",
   "mimetype": "text/x-python",
   "name": "python",
   "nbconvert_exporter": "python",
   "pygments_lexer": "ipython3",
<<<<<<< Updated upstream
   "version": "3.8.3"
=======
   "version": "3.8.5"
>>>>>>> Stashed changes
  }
 },
 "nbformat": 4,
 "nbformat_minor": 4
}
