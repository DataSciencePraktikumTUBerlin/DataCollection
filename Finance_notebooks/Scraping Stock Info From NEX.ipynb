{
 "cells": [
  {
   "cell_type": "markdown",
   "metadata": {},
   "source": [
    "## Importing Libraries"
   ]
  },
  {
   "cell_type": "code",
   "execution_count": 14,
   "metadata": {},
   "outputs": [],
   "source": [
    "from bs4 import BeautifulSoup\n",
    "import requests\n",
    "import json\n",
    "\n",
    "from time import sleep\n",
    "\n",
    "import pandas as pd"
   ]
  },
  {
   "cell_type": "markdown",
   "metadata": {},
   "source": [
    "## Scraping table with company info"
   ]
  },
  {
   "cell_type": "markdown",
   "metadata": {},
   "source": [
    "Since the page's HTML is pretty hard to scrape, I just hardcoded the part containing the table with the info we need and we'll use that instead."
   ]
  },
  {
   "cell_type": "code",
   "execution_count": 15,
   "metadata": {},
   "outputs": [],
   "source": [
    "html = '<table cellspacing=\"0\" cellpadding=\"0\" width=\"100%\" bgcolor=\"#ffffff\" class=\"sample\" align=\"center\"> <tbody> <tr valign=\"top\"> <td width=\"260\"><strong>COMPANY NAME</strong></td><td width=\"360\"><strong>DESCRIPTION</strong></td><td><strong>SEC.</strong></td><td><strong>CUR.</strong></td><td width=\"90\"><strong>COUNTRY</strong></td></tr><tr valign=\"top\"> <td style=\"text-align:left;font-size:10px;\">Acciona</td><td style=\"text-align:left;font-size:10px;\">Operates Wind, Solar/Thermal, Hydro, Biomass plants.</td><td style=\"text-align:left;font-size:10px;\">RWD</td><td style=\"text-align:left;font-size:10px;\">EUR</td><td style=\"text-align:left;font-size:10px;\">SPAIN</td></tr><tr valign=\"top\"> <td style=\"text-align:left;font-size:10px;\">Albioma SA</td><td style=\"text-align:left;font-size:10px;\">Biomass, sugarcane, hybrid combustion, cogeneration.</td><td style=\"text-align:left;font-size:10px;\">RBB</td><td style=\"text-align:left;font-size:10px;\">EUR</td><td style=\"text-align:left;font-size:10px;\">FRANCE</td></tr><tr valign=\"top\"> <td style=\"text-align:left;font-size:10px;\">Ameresco</td><td style=\"text-align:left;font-size:10px;\">Energy savings, performance contracts, in renewables.</td><td style=\"text-align:left;font-size:10px;\">EEF</td><td style=\"text-align:left;font-size:10px;\">USD</td><td style=\"text-align:left;font-size:10px;\">US</td></tr><tr valign=\"top\"> <td style=\"text-align:left;font-size:10px;\">Arcosa</td><td style=\"text-align:left;font-size:10px;\">Wind Towers, structures for electricity transmission. </td><td style=\"text-align:left;font-size:10px;\">RWD</td><td style=\"text-align:left;font-size:10px;\">USD</td><td style=\"text-align:left;font-size:10px;\">US</td></tr><tr valign=\"top\"> <td style=\"text-align:left;font-size:10px;\">Azure Power Global</td><td style=\"text-align:left;font-size:10px;\">Solar, India; aims to offer lowest-cost electricity.</td><td style=\"text-align:left;font-size:10px;\">RSR</td><td style=\"text-align:left;font-size:10px;\">USD</td><td style=\"text-align:left;font-size:10px;\">INDIA</td></tr><tr valign=\"top\"> <td style=\"text-align:left;font-size:10px;\">Ballard Power Systems</td><td style=\"text-align:left;font-size:10px;\">Fuel cells; R&amp;D, used in transportation and more.</td><td style=\"text-align:left;font-size:10px;\">ECV</td><td style=\"text-align:left;font-size:10px;\">CAD</td><td style=\"text-align:left;font-size:10px;\">CANADA</td></tr><tr valign=\"top\"> <td style=\"text-align:left;font-size:10px;\">Bloom Energy</td><td style=\"text-align:left;font-size:10px;\">Stationary fuel cells, distributed but non-renewable.</td><td style=\"text-align:left;font-size:10px;\">ECV</td><td style=\"text-align:left;font-size:10px;\">USD</td><td style=\"text-align:left;font-size:10px;\">US</td></tr><tr valign=\"top\"> <td style=\"text-align:left;font-size:10px;\">Boralex</td><td style=\"text-align:left;font-size:10px;\">Renewables generation, operates wind, hydro, solar.</td><td style=\"text-align:left;font-size:10px;\">RWD</td><td style=\"text-align:left;font-size:10px;\">CAD</td><td style=\"text-align:left;font-size:10px;\">CANADA</td></tr><tr valign=\"top\"> <td style=\"text-align:left;font-size:10px;\">BYD Co.</td><td style=\"text-align:left;font-size:10px;\">Batteries, potential use in EVs, rail, solar farms, more.</td><td style=\"text-align:left;font-size:10px;\">ENS</td><td style=\"text-align:left;font-size:10px;\">HKD</td><td style=\"text-align:left;font-size:10px;\">CHINA</td></tr><tr valign=\"top\"> <td style=\"text-align:left;font-size:10px;\">Canadian Solar</td><td style=\"text-align:left;font-size:10px;\">Solar, vertically integrated solar manufacturer, China.</td><td style=\"text-align:left;font-size:10px;\">RSR</td><td style=\"text-align:left;font-size:10px;\">USD</td><td style=\"text-align:left;font-size:10px;\">CANADA</td></tr><tr valign=\"top\"> <td style=\"text-align:left;font-size:10px;\">Caverion OYJ</td><td style=\"text-align:left;font-size:10px;\">Energy efficiency, buildings, infrastructure, Europe.</td><td style=\"text-align:left;font-size:10px;\">EEF</td><td style=\"text-align:left;font-size:10px;\">EUR</td><td style=\"text-align:left;font-size:10px;\">FINLAND</td></tr><tr valign=\"top\"> <td style=\"text-align:left;font-size:10px;\">Ceres Power</td><td style=\"text-align:left;font-size:10px;\">Fuel cells, high temperature steel units.</td><td style=\"text-align:left;font-size:10px;\">ECV</td><td style=\"text-align:left;font-size:10px;\">GBP</td><td style=\"text-align:left;font-size:10px;\">BRITAIN</td></tr><tr valign=\"top\"> <td style=\"text-align:left;font-size:10px;\">Cree Inc.</td><td style=\"text-align:left;font-size:10px;\">LED manufacturer power-saving, efficient lighting.</td><td style=\"text-align:left;font-size:10px;\">EEF</td><td style=\"text-align:left;font-size:10px;\">USD</td><td style=\"text-align:left;font-size:10px;\">US</td></tr><tr valign=\"top\"> <td style=\"text-align:left;font-size:10px;\">CropEnergies AG</td><td style=\"text-align:left;font-size:10px;\">Bioethanol, from cereals and sugarbeet, Germany.</td><td style=\"text-align:left;font-size:10px;\">RBB</td><td style=\"text-align:left;font-size:10px;\">EUR</td><td style=\"text-align:left;font-size:10px;\">GERMANY</td></tr><tr valign=\"top\"> <td style=\"text-align:left;font-size:10px;\">Credit Suisse Real E. Grn.</td><td style=\"text-align:left;font-size:10px;\">Sustainability in buildings, real estate.</td><td style=\"text-align:left;font-size:10px;\">EEF</td><td style=\"text-align:left;font-size:10px;\">CHF</td><td style=\"text-align:left;font-size:10px;\">SWITZER.</td></tr><tr valign=\"top\"> <td style=\"text-align:left;font-size:10px;\">CS Wind</td><td style=\"text-align:left;font-size:10px;\">Wind power, both onshore, also offshore.</td><td style=\"text-align:left;font-size:10px;\">RWD</td><td style=\"text-align:left;font-size:10px;\">KRW</td><td style=\"text-align:left;font-size:10px;\">S. KOREA</td></tr><tr valign=\"top\"> <td style=\"text-align:left;font-size:10px;\">Daqo New Energy </td><td style=\"text-align:left;font-size:10px;\">Solar, high-purity polysilicon for solar wafers, China.</td><td style=\"text-align:left;font-size:10px;\">RSR</td><td style=\"text-align:left;font-size:10px;\">USD</td><td style=\"text-align:left;font-size:10px;\">CHINA</td></tr><tr valign=\"top\"> <td style=\"text-align:left;font-size:10px;\">EcoPro</td><td style=\"text-align:left;font-size:10px;\">Battery materials, Pollution Control catalysts, S. Korea.</td><td style=\"text-align:left;font-size:10px;\">ENS</td><td style=\"text-align:left;font-size:10px;\">KRW</td><td style=\"text-align:left;font-size:10px;\">S. KOREA</td></tr><tr valign=\"top\"> <td style=\"text-align:left;font-size:10px;\">EDP Renovaveis SA</td><td style=\"text-align:left;font-size:10px;\">Wind power, among largest producers in world, Iberia.</td><td style=\"text-align:left;font-size:10px;\">RWD</td><td style=\"text-align:left;font-size:10px;\">EUR</td><td style=\"text-align:left;font-size:10px;\">SPAIN</td></tr><tr valign=\"top\"> <td style=\"text-align:left;font-size:10px;\">Encavis AG</td><td style=\"text-align:left;font-size:10px;\">Solar, large solar park operator, also wind, Germany.</td><td style=\"text-align:left;font-size:10px;\">RSR</td><td style=\"text-align:left;font-size:10px;\">EUR</td><td style=\"text-align:left;font-size:10px;\">GERMANY</td></tr><tr valign=\"top\"> <td style=\"text-align:left;font-size:10px;\">Enphase</td><td style=\"text-align:left;font-size:10px;\">Inverters, micro-products for solar panels, storage.</td><td style=\"text-align:left;font-size:10px;\">RSR</td><td style=\"text-align:left;font-size:10px;\">USD</td><td style=\"text-align:left;font-size:10px;\">US</td></tr><tr valign=\"top\"> <td style=\"text-align:left;font-size:10px;\">Eolus Vind</td><td style=\"text-align:left;font-size:10px;\">Wind power, also consulting services for wind. </td><td style=\"text-align:left;font-size:10px;\">RWD</td><td style=\"text-align:left;font-size:10px;\">SEK</td><td style=\"text-align:left;font-size:10px;\">SWEDEN</td></tr><tr valign=\"top\"> <td style=\"text-align:left;font-size:10px;\">eRex Co. ltd.</td><td style=\"text-align:left;font-size:10px;\">Power generation, bus./ residential, biomass, Japan.</td><td style=\"text-align:left;font-size:10px;\">RBB</td><td style=\"text-align:left;font-size:10px;\">JPY</td><td style=\"text-align:left;font-size:10px;\">JAPAN</td></tr><tr valign=\"top\"> <td style=\"text-align:left;font-size:10px;\">Everlight Electronics</td><td style=\"text-align:left;font-size:10px;\">LEDs, large manufacturer in optoelectronics, Taiwan.</td><td style=\"text-align:left;font-size:10px;\">EEF</td><td style=\"text-align:left;font-size:10px;\">TWD</td><td style=\"text-align:left;font-size:10px;\">TAIWAN</td></tr><tr valign=\"top\"> <td style=\"text-align:left;font-size:10px;\">Falck Renewables SpA</td><td style=\"text-align:left;font-size:10px;\">Renewable wind, biomass, WtE, solar, Europe.</td><td style=\"text-align:left;font-size:10px;\">RWD</td><td style=\"text-align:left;font-size:10px;\">EUR</td><td style=\"text-align:left;font-size:10px;\">ITALY</td></tr><tr valign=\"top\"> <td style=\"text-align:left;font-size:10px;\">First Solar</td><td style=\"text-align:left;font-size:10px;\">Thin film solar, CdTe low-cost alternate to polysilicon.</td><td style=\"text-align:left;font-size:10px;\">RSR</td><td style=\"text-align:left;font-size:10px;\">USD</td><td style=\"text-align:left;font-size:10px;\">US</td></tr><tr valign=\"top\"> <td style=\"text-align:left;font-size:10px;\">FuelCell Energy</td><td style=\"text-align:left;font-size:10px;\">Fuel cells, high temperature and hydrogen.</td><td style=\"text-align:left;font-size:10px;\">ECV</td><td style=\"text-align:left;font-size:10px;\">USD</td><td style=\"text-align:left;font-size:10px;\">US</td></tr><tr valign=\"top\"> <td style=\"text-align:left;font-size:10px;\">Greencoat UK Wind plc</td><td style=\"text-align:left;font-size:10px;\">Infrastructure fund, invested in U.K. wind power assets.</td><td style=\"text-align:left;font-size:10px;\">RWD</td><td style=\"text-align:left;font-size:10px;\">GBP</td><td style=\"text-align:left;font-size:10px;\">BRITAIN</td></tr><tr valign=\"top\"> <td style=\"text-align:left;font-size:10px;\">GS Yuasa</td><td style=\"text-align:left;font-size:10px;\">Battery technologies, also Lithium for EVs, Japan.</td><td style=\"text-align:left;font-size:10px;\">ENS</td><td style=\"text-align:left;font-size:10px;\">JPY</td><td style=\"text-align:left;font-size:10px;\">JAPAN</td></tr><tr valign=\"top\"> <td style=\"text-align:left;font-size:10px;\">Gurit Holding AG</td><td style=\"text-align:left;font-size:10px;\">Composite Materials in wind, lightens cars, planes.</td><td style=\"text-align:left;font-size:10px;\">RWD</td><td style=\"text-align:left;font-size:10px;\">CHF</td><td style=\"text-align:left;font-size:10px;\">SWITZER.</td></tr><tr valign=\"top\"> <td style=\"text-align:left;font-size:10px;\">Hannon Armstrong </td><td style=\"text-align:left;font-size:10px;\">Energy efficiency, capital &amp; finance for infrastructure.</td><td style=\"text-align:left;font-size:10px;\">EEF</td><td style=\"text-align:left;font-size:10px;\">USD</td><td style=\"text-align:left;font-size:10px;\">US</td></tr><tr valign=\"top\"> <td style=\"text-align:left;font-size:10px;\">Innergex Renewable </td><td style=\"text-align:left;font-size:10px;\">Renewable power, run-of-river hydro, wind, solar.</td><td style=\"text-align:left;font-size:10px;\">ROH</td><td style=\"text-align:left;font-size:10px;\">CAD</td><td style=\"text-align:left;font-size:10px;\">CANADA</td></tr><tr valign=\"top\"> <td style=\"text-align:left;font-size:10px;\">ITM Power plc</td><td style=\"text-align:left;font-size:10px;\">Fuel cells, uses PEM technology; also hydrogen.</td><td style=\"text-align:left;font-size:10px;\">ECV</td><td style=\"text-align:left;font-size:10px;\">GBP</td><td style=\"text-align:left;font-size:10px;\">BRITAIN</td></tr><tr valign=\"top\"> <td style=\"text-align:left;font-size:10px;\">Itron</td><td style=\"text-align:left;font-size:10px;\">Meters, Utility energy monitor, measuring &amp; manage.</td><td style=\"text-align:left;font-size:10px;\">EEF</td><td style=\"text-align:left;font-size:10px;\">USD</td><td style=\"text-align:left;font-size:10px;\">US</td></tr><tr valign=\"top\"> <td style=\"text-align:left;font-size:10px;\">JinkoSolar </td><td style=\"text-align:left;font-size:10px;\">Solar, wafers through solar modules, China OEM.</td><td style=\"text-align:left;font-size:10px;\">RSR</td><td style=\"text-align:left;font-size:10px;\">USD</td><td style=\"text-align:left;font-size:10px;\">CHINA</td></tr><tr valign=\"top\"> <td style=\"text-align:left;font-size:10px;\">Kingspan Group plc</td><td style=\"text-align:left;font-size:10px;\">Efficient Buildings, insulation for conservation, Ireland.</td><td style=\"text-align:left;font-size:10px;\">EEF</td><td style=\"text-align:left;font-size:10px;\">EUR</td><td style=\"text-align:left;font-size:10px;\">IRELAND</td></tr><tr valign=\"top\"> <td style=\"text-align:left;font-size:10px;\">Landis+Gyr Group AG</td><td style=\"text-align:left;font-size:10px;\">Advanced meters, modernizing grid, Switzerland.</td><td style=\"text-align:left;font-size:10px;\">EEF</td><td style=\"text-align:left;font-size:10px;\">CHF</td><td style=\"text-align:left;font-size:10px;\">SWITZER.</td></tr><tr valign=\"top\"> <td style=\"text-align:left;font-size:10px;\">Lithium Americas</td><td style=\"text-align:left;font-size:10px;\">Lithium, projects in Nevada USA, and Argentina.</td><td style=\"text-align:left;font-size:10px;\">ENS</td><td style=\"text-align:left;font-size:10px;\">USD</td><td style=\"text-align:left;font-size:10px;\">US</td></tr><tr valign=\"top\"> <td style=\"text-align:left;font-size:10px;\">Maxeon Solar</td><td style=\"text-align:left;font-size:10px;\">Solar panel manufacturer, a spinoff from Sunpower.</td><td style=\"text-align:left;font-size:10px;\">RSR</td><td style=\"text-align:left;font-size:10px;\">USD</td><td style=\"text-align:left;font-size:10px;\">US</td></tr><tr valign=\"top\"> <td style=\"text-align:left;font-size:10px;\">McPhy Energy</td><td style=\"text-align:left;font-size:10px;\">Hydrogen, electrolyzers using water, H2 storage. </td><td style=\"text-align:left;font-size:10px;\">ECV</td><td style=\"text-align:left;font-size:10px;\">EUR</td><td style=\"text-align:left;font-size:10px;\">FRANCE</td></tr><tr valign=\"top\"> <td style=\"text-align:left;font-size:10px;\">Mercury NZ</td><td style=\"text-align:left;font-size:10px;\">Clean power, 100% renewable hydro, geothermal.</td><td style=\"text-align:left;font-size:10px;\">ROH</td><td style=\"text-align:left;font-size:10px;\">NZD</td><td style=\"text-align:left;font-size:10px;\">NEW ZEAL.</td></tr><tr valign=\"top\"> <td style=\"text-align:left;font-size:10px;\">Meridian Energy </td><td style=\"text-align:left;font-size:10px;\">Hydroelectric power stations, some wind, New Zealand.</td><td style=\"text-align:left;font-size:10px;\">ROH</td><td style=\"text-align:left;font-size:10px;\">NZD</td><td style=\"text-align:left;font-size:10px;\">NEW ZEAL.</td></tr><tr valign=\"top\"> <td style=\"text-align:left;font-size:10px;\">Nel ASA</td><td style=\"text-align:left;font-size:10px;\">Hydrogen, fuel cell vehicles, renewably, Norway.</td><td style=\"text-align:left;font-size:10px;\">ECV</td><td style=\"text-align:left;font-size:10px;\">NOK</td><td style=\"text-align:left;font-size:10px;\">NORWAY</td></tr><tr valign=\"top\"> <td style=\"text-align:left;font-size:10px;\">Neoen SA</td><td style=\"text-align:left;font-size:10px;\">Renewable energy mainly solar, some wind.</td><td style=\"text-align:left;font-size:10px;\">RSR</td><td style=\"text-align:left;font-size:10px;\">EUR</td><td style=\"text-align:left;font-size:10px;\">FRANCE</td></tr><tr valign=\"top\"> <td style=\"text-align:left;font-size:10px;\">Nibe Industrier AB</td><td style=\"text-align:left;font-size:10px;\">Heating &amp; cooling, sustainable technologies, Sweden.</td><td style=\"text-align:left;font-size:10px;\">EEF</td><td style=\"text-align:left;font-size:10px;\">SEK</td><td style=\"text-align:left;font-size:10px;\">SWEDEN</td></tr><tr valign=\"top\"> <td style=\"text-align:left;font-size:10px;\">Nio </td><td style=\"text-align:left;font-size:10px;\">EVs, design, manufacture, and sale including SUVs</td><td style=\"text-align:left;font-size:10px;\">ENS</td><td style=\"text-align:left;font-size:10px;\">USD</td><td style=\"text-align:left;font-size:10px;\">CHINA</td></tr><tr valign=\"top\"> <td style=\"text-align:left;font-size:10px;\">Nordex SE</td><td style=\"text-align:left;font-size:10px;\">Wind turbines, based in Germany/Europe, worldwide.</td><td style=\"text-align:left;font-size:10px;\">RWD</td><td style=\"text-align:left;font-size:10px;\">EUR</td><td style=\"text-align:left;font-size:10px;\">GERMANY</td></tr><tr valign=\"top\"> <td style=\"text-align:left;font-size:10px;\">Novozymes A/S</td><td style=\"text-align:left;font-size:10px;\">Biofuels, enzymes used in partnerships, Denmark.</td><td style=\"text-align:left;font-size:10px;\">RBB</td><td style=\"text-align:left;font-size:10px;\">DKK</td><td style=\"text-align:left;font-size:10px;\">DENMARK</td></tr><tr valign=\"top\"> <td style=\"text-align:left;font-size:10px;\">Ormat</td><td style=\"text-align:left;font-size:10px;\">Geothermal, works too in recovered heat energy.</td><td style=\"text-align:left;font-size:10px;\">ROH</td><td style=\"text-align:left;font-size:10px;\">USD</td><td style=\"text-align:left;font-size:10px;\">US</td></tr><tr valign=\"top\"> <td style=\"text-align:left;font-size:10px;\">Orsted A/S</td><td style=\"text-align:left;font-size:10px;\">Sustainable wind, also biomass, thermal, Denmark.</td><td style=\"text-align:left;font-size:10px;\">RWD</td><td style=\"text-align:left;font-size:10px;\">DKK</td><td style=\"text-align:left;font-size:10px;\">DENMARK</td></tr><tr valign=\"top\"> <td style=\"text-align:left;font-size:10px;\">Plug Power</td><td style=\"text-align:left;font-size:10px;\">Small fuel cells, e.g. in forklifts; drop in replacements.</td><td style=\"text-align:left;font-size:10px;\">ECV</td><td style=\"text-align:left;font-size:10px;\">USD</td><td style=\"text-align:left;font-size:10px;\">US</td></tr><tr valign=\"top\"> <td style=\"text-align:left;font-size:10px;\">PNE AG</td><td style=\"text-align:left;font-size:10px;\">Wind Farms, both onshore &amp; offshore; also hydrogen.</td><td style=\"text-align:left;font-size:10px;\">RWD</td><td style=\"text-align:left;font-size:10px;\">EUR</td><td style=\"text-align:left;font-size:10px;\">GERMANY</td></tr><tr valign=\"top\"> <td style=\"text-align:left;font-size:10px;\">Powercell Sweden</td><td style=\"text-align:left;font-size:10px;\">Fuel cells, transportation, marine, stationary uses.</td><td style=\"text-align:left;font-size:10px;\">ECV</td><td style=\"text-align:left;font-size:10px;\">SEK</td><td style=\"text-align:left;font-size:10px;\">SWEDEN</td></tr><tr valign=\"top\"> <td style=\"text-align:left;font-size:10px;\">Prysmian SpA</td><td style=\"text-align:left;font-size:10px;\">Cables, renewable power transmission, global.</td><td style=\"text-align:left;font-size:10px;\">EEF</td><td style=\"text-align:left;font-size:10px;\">EUR</td><td style=\"text-align:left;font-size:10px;\">ITALY</td></tr><tr valign=\"top\"> <td style=\"text-align:left;font-size:10px;\">Renewable Energy Group</td><td style=\"text-align:left;font-size:10px;\">Biodiesel, natural fats, oils, grease to biofuels.</td><td style=\"text-align:left;font-size:10px;\">RBB</td><td style=\"text-align:left;font-size:10px;\">USD</td><td style=\"text-align:left;font-size:10px;\">US</td></tr><tr valign=\"top\"> <td style=\"text-align:left;font-size:10px;\">Renewables Infrastructure </td><td style=\"text-align:left;font-size:10px;\">Wind Farm &amp; Solar Park revenues assets, U.K.</td><td style=\"text-align:left;font-size:10px;\">RWD</td><td style=\"text-align:left;font-size:10px;\">GBP</td><td style=\"text-align:left;font-size:10px;\">BRITAIN</td></tr><tr valign=\"top\"> <td style=\"text-align:left;font-size:10px;\">Renova</td><td style=\"text-align:left;font-size:10px;\">Wind, Solar, Biomass, power generation in Asia.</td><td style=\"text-align:left;font-size:10px;\">RWD</td><td style=\"text-align:left;font-size:10px;\">JPY</td><td style=\"text-align:left;font-size:10px;\">JAPAN</td></tr><tr valign=\"top\"> <td style=\"text-align:left;font-size:10px;\">Samsung SDI</td><td style=\"text-align:left;font-size:10px;\">Batteries, innovative energy storage, EVs, South Korea.</td><td style=\"text-align:left;font-size:10px;\">ENS</td><td style=\"text-align:left;font-size:10px;\">KRW</td><td style=\"text-align:left;font-size:10px;\">S. KOREA</td></tr><tr valign=\"top\"> <td style=\"text-align:left;font-size:10px;\">Scatec Solar ASA</td><td style=\"text-align:left;font-size:10px;\">Solar power parks worldwide.</td><td style=\"text-align:left;font-size:10px;\">RSR</td><td style=\"text-align:left;font-size:10px;\">NOK</td><td style=\"text-align:left;font-size:10px;\">NORWAY</td></tr><tr valign=\"top\"> <td style=\"text-align:left;font-size:10px;\">Siemens Gamesa </td><td style=\"text-align:left;font-size:10px;\">Wind, onshore &amp; offshore, turbines, gearboxes, Spain</td><td style=\"text-align:left;font-size:10px;\">RWD</td><td style=\"text-align:left;font-size:10px;\">EUR</td><td style=\"text-align:left;font-size:10px;\">SPAIN</td></tr><tr valign=\"top\"> <td style=\"text-align:left;font-size:10px;\">Signify NV</td><td style=\"text-align:left;font-size:10px;\">Lighting, systems increasing efficiency, Netherlands.</td><td style=\"text-align:left;font-size:10px;\">EEF</td><td style=\"text-align:left;font-size:10px;\">EUR</td><td style=\"text-align:left;font-size:10px;\">NETHERL.</td></tr><tr valign=\"top\"> <td style=\"text-align:left;font-size:10px;\">Sino-American Silicon </td><td style=\"text-align:left;font-size:10px;\">Solar, semi-conductor silicon wafer materials, Taiwan.</td><td style=\"text-align:left;font-size:10px;\">RSR</td><td style=\"text-align:left;font-size:10px;\">TWD</td><td style=\"text-align:left;font-size:10px;\">TAIWAN</td></tr><tr valign=\"top\"> <td style=\"text-align:left;font-size:10px;\">SMA Solar Technology</td><td style=\"text-align:left;font-size:10px;\">Inverters for solar, industrial scale storage, Germany.</td><td style=\"text-align:left;font-size:10px;\">RSR</td><td style=\"text-align:left;font-size:10px;\">EUR</td><td style=\"text-align:left;font-size:10px;\">GERMANY</td></tr><tr valign=\"top\"> <td style=\"text-align:left;font-size:10px;\">Solaria Energia</td><td style=\"text-align:left;font-size:10px;\">Solar, renewable power generation, Iberia.</td><td style=\"text-align:left;font-size:10px;\">RSR</td><td style=\"text-align:left;font-size:10px;\">EUR</td><td style=\"text-align:left;font-size:10px;\">SPAIN</td></tr><tr valign=\"top\"> <td style=\"text-align:left;font-size:10px;\">SolarEdge</td><td style=\"text-align:left;font-size:10px;\">Inverters, panel-level solar optimizers, micro-inverters.</td><td style=\"text-align:left;font-size:10px;\">RSR</td><td style=\"text-align:left;font-size:10px;\">USD</td><td style=\"text-align:left;font-size:10px;\">US</td></tr><tr valign=\"top\"> <td style=\"text-align:left;font-size:10px;\">Sunnova</td><td style=\"text-align:left;font-size:10px;\">Residential solar and energy storage installation.</td><td style=\"text-align:left;font-size:10px;\">RSR</td><td style=\"text-align:left;font-size:10px;\">USD</td><td style=\"text-align:left;font-size:10px;\">US</td></tr><tr valign=\"top\"> <td style=\"text-align:left;font-size:10px;\">SunPower</td><td style=\"text-align:left;font-size:10px;\">Solar, efficient PV panels with rear-contact cells.</td><td style=\"text-align:left;font-size:10px;\">RSR</td><td style=\"text-align:left;font-size:10px;\">USD</td><td style=\"text-align:left;font-size:10px;\">US</td></tr><tr valign=\"top\"> <td style=\"text-align:left;font-size:10px;\">Sunrun</td><td style=\"text-align:left;font-size:10px;\">Residential solar, leasing, PPA or purchase rooftop PV.</td><td style=\"text-align:left;font-size:10px;\">RSR</td><td style=\"text-align:left;font-size:10px;\">USD</td><td style=\"text-align:left;font-size:10px;\">US</td></tr><tr valign=\"top\"> <td style=\"text-align:left;font-size:10px;\">Terna SpA</td><td style=\"text-align:left;font-size:10px;\">Transmission of electricity, increasingly is renewables.</td><td style=\"text-align:left;font-size:10px;\">EEF</td><td style=\"text-align:left;font-size:10px;\">EUR</td><td style=\"text-align:left;font-size:10px;\">ITALY</td></tr><tr valign=\"top\"> <td style=\"text-align:left;font-size:10px;\">Tilt Renewables</td><td style=\"text-align:left;font-size:10px;\">Wind Farms, Australia and New Zealand, some solar.</td><td style=\"text-align:left;font-size:10px;\">RWD</td><td style=\"text-align:left;font-size:10px;\">NZD</td><td style=\"text-align:left;font-size:10px;\">NEW ZEAL.</td></tr><tr valign=\"top\"> <td style=\"text-align:left;font-size:10px;\">TPI Composites</td><td style=\"text-align:left;font-size:10px;\">Wind Blades; also light-weighting for transportation.</td><td style=\"text-align:left;font-size:10px;\">RWD</td><td style=\"text-align:left;font-size:10px;\">USD</td><td style=\"text-align:left;font-size:10px;\">US</td></tr><tr valign=\"top\"> <td style=\"text-align:left;font-size:10px;\">TransAlta Renewables</td><td style=\"text-align:left;font-size:10px;\">Renewables, operating wind power, some hydro.</td><td style=\"text-align:left;font-size:10px;\">RWD</td><td style=\"text-align:left;font-size:10px;\">CAD</td><td style=\"text-align:left;font-size:10px;\">CANADA</td></tr><tr valign=\"top\"> <td style=\"text-align:left;font-size:10px;\">Universal Display</td><td style=\"text-align:left;font-size:10px;\">Organic light emitting diodes, efficient displays.</td><td style=\"text-align:left;font-size:10px;\">EEF</td><td style=\"text-align:left;font-size:10px;\">USD</td><td style=\"text-align:left;font-size:10px;\">US</td></tr><tr valign=\"top\"> <td style=\"text-align:left;font-size:10px;\">Veeco instruments</td><td style=\"text-align:left;font-size:10px;\">Thin film equipment LEDs, energy efficient electronics.</td><td style=\"text-align:left;font-size:10px;\">EEF</td><td style=\"text-align:left;font-size:10px;\">USD</td><td style=\"text-align:left;font-size:10px;\">US</td></tr><tr valign=\"top\"> <td style=\"text-align:left;font-size:10px;\">Verbio Vereinigte BioEn. </td><td style=\"text-align:left;font-size:10px;\">Biofuels, manufacturer supplier to Germany, Europe.</td><td style=\"text-align:left;font-size:10px;\">RBB</td><td style=\"text-align:left;font-size:10px;\">EUR</td><td style=\"text-align:left;font-size:10px;\">GERMANY</td></tr><tr valign=\"top\"> <td style=\"text-align:left;font-size:10px;\">Verbund AG</td><td style=\"text-align:left;font-size:10px;\">Electricity supplier, hydro, a large provider for Austria.</td><td style=\"text-align:left;font-size:10px;\">ROH</td><td style=\"text-align:left;font-size:10px;\">EUR</td><td style=\"text-align:left;font-size:10px;\">AUSTRIA</td></tr><tr valign=\"top\"> <td style=\"text-align:left;font-size:10px;\">Vestas Wind Systems A/S</td><td style=\"text-align:left;font-size:10px;\">Wind, wind turbine manufacturing &amp; services, Denmark.</td><td style=\"text-align:left;font-size:10px;\">RWD</td><td style=\"text-align:left;font-size:10px;\">DKK</td><td style=\"text-align:left;font-size:10px;\">DENMARK</td></tr><tr valign=\"top\"> <td style=\"text-align:left;font-size:10px;\">West Holdings</td><td style=\"text-align:left;font-size:10px;\">Solar, Japan-focused residential and commercial PV.</td><td style=\"text-align:left;font-size:10px;\">RSR</td><td style=\"text-align:left;font-size:10px;\">JPY</td><td style=\"text-align:left;font-size:10px;\">JAPAN</td></tr><tr valign=\"top\"> <td style=\"text-align:left;font-size:10px;\">Willdan Group</td><td style=\"text-align:left;font-size:10px;\">Energy efficiency in infrastructure, engineering.</td><td style=\"text-align:left;font-size:10px;\">EEF</td><td style=\"text-align:left;font-size:10px;\">USD</td><td style=\"text-align:left;font-size:10px;\">US</td></tr><tr valign=\"top\"> <td style=\"text-align:left;font-size:10px;\">Xebec Adsorption</td><td style=\"text-align:left;font-size:10px;\">Gases for new renewable energies, hydrogen.</td><td style=\"text-align:left;font-size:10px;\">EEF</td><td style=\"text-align:left;font-size:10px;\">CAD</td><td style=\"text-align:left;font-size:10px;\">CANADA</td></tr><tr valign=\"top\"> <td style=\"text-align:left;font-size:10px;\">Xinjiang Goldwind</td><td style=\"text-align:left;font-size:10px;\">Wind, large turbine manufacturer, China.</td><td style=\"text-align:left;font-size:10px;\">RWD</td><td style=\"text-align:left;font-size:10px;\">HKD</td><td style=\"text-align:left;font-size:10px;\">CHINA</td></tr><tr valign=\"top\"> <td style=\"text-align:left;font-size:10px;\">Xinyi Energy Holdings</td><td style=\"text-align:left;font-size:10px;\">Solar Farms, a spin-off from Xinyi solar glass, China.</td><td style=\"text-align:left;font-size:10px;\">RSR</td><td style=\"text-align:left;font-size:10px;\">RSR</td><td style=\"text-align:left;font-size:10px;\">CHINA</td></tr><tr valign=\"top\"> <td style=\"text-align:left;font-size:10px;\">Xinyi Solar Holdings </td><td style=\"text-align:left;font-size:10px;\">Solar, ultra-clear glass products, China.</td><td style=\"text-align:left;font-size:10px;\">RSR</td><td style=\"text-align:left;font-size:10px;\">HKD</td><td style=\"text-align:left;font-size:10px;\">CHINA</td></tr><tr valign=\"top\"> <td style=\"text-align:left;font-size:10px;\">Xpeng</td><td style=\"text-align:left;font-size:10px;\">Electric Vehicles, internet and autonomous features. </td><td style=\"text-align:left;font-size:10px;\">ENS</td><td style=\"text-align:left;font-size:10px;\">USD</td><td style=\"text-align:left;font-size:10px;\">CHINA</td></tr></tbody></table>'\n",
    "soup = BeautifulSoup(html, features=\"lxml\")"
   ]
  },
  {
   "cell_type": "markdown",
   "metadata": {},
   "source": [
    "## Creating a dataframe\n",
    "\n",
    "The dataframe columns are:\n",
    "* company name\n",
    "* description\t\n",
    "* sec.\t\n",
    "* cur.\t\n",
    "* country"
   ]
  },
  {
   "cell_type": "code",
   "execution_count": 16,
   "metadata": {},
   "outputs": [],
   "source": [
    "table = soup.find('table')\n",
    "tr = soup.findAll('tr')\n",
    "\n",
    "html_table_headers = tr[0]\n",
    "csv_table_headers = list(map(lambda x: x.find('strong').text.lower(), html_table_headers.findAll('td')))\n",
    "\n",
    "    \n",
    "html_table_rows = tr[1:]\n",
    "csv_table_rows = []\n",
    "\n",
    "for row in html_table_rows:\n",
    "    row_data = list(map(lambda x: x.text, row.findAll('td')))\n",
    "    csv_table_rows.append(row_data)\n",
    "    \n",
    "df = pd.DataFrame(columns=csv_table_headers, data=csv_table_rows)"
   ]
  },
  {
   "cell_type": "markdown",
   "metadata": {},
   "source": [
    "Here we filter out only countries of interest."
   ]
  },
  {
   "cell_type": "code",
   "execution_count": 17,
   "metadata": {},
   "outputs": [],
   "source": [
    "countries = ['GERMANY', 'US', 'INDIA', 'CHINA']\n",
    "df = df[df['country'].isin(countries)].reset_index(drop=True)"
   ]
  },
  {
   "cell_type": "markdown",
   "metadata": {},
   "source": [
    "## Getting a company's stock symbol\n",
    "\n",
    "The NEX site doesn't provide us with the companies' stock symbols. We need those in order to find additional financial data later on via the YahooFinance API.\n",
    "\n",
    "Firstly, we'll use a unofficial version of said API in order to find a company's symbol by it's name. Then we'll add the list of symbols to the dataframe."
   ]
  },
  {
   "cell_type": "code",
   "execution_count": 18,
   "metadata": {},
   "outputs": [],
   "source": [
    "def get_response(company):\n",
    "    url = 'https://apidojo-yahoo-finance-v1.p.rapidapi.com/auto-complete'\n",
    "    headers = {\n",
    "        'x-rapidapi-key': 'p2StC87FoomshlbDwxt0Tag6WnSjp1SlIEZjsnXQz4yuwp2JId',\n",
    "        'x-rapidapi-host': 'apidojo-yahoo-finance-v1.p.rapidapi.com'\n",
    "        }\n",
    "    \n",
    "    querystring = {'q': company}\n",
    "\n",
    "    response = requests.request('GET', url, headers=headers, params=querystring)\n",
    "    response = json.loads(response.text)\n",
    "    \n",
    "    return response\n",
    "    \n",
    "symbols = []\n",
    "for i, row in df.iterrows():\n",
    "    company = row['company name']\n",
    "        \n",
    "    try:\n",
    "        response = get_response(company)\n",
    "        symbol = response['quotes'][0]['symbol']\n",
    "        symbols.append(symbol)\n",
    "    except:\n",
    "        sleep(1)\n",
    "        response = get_response(company)\n",
    "        symbol = response['quotes'][0]['symbol']\n",
    "        symbols.append(symbol)"
   ]
  },
  {
   "cell_type": "code",
   "execution_count": 21,
   "metadata": {},
   "outputs": [
    {
     "data": {
      "text/html": [
       "<div>\n",
       "<style scoped>\n",
       "    .dataframe tbody tr th:only-of-type {\n",
       "        vertical-align: middle;\n",
       "    }\n",
       "\n",
       "    .dataframe tbody tr th {\n",
       "        vertical-align: top;\n",
       "    }\n",
       "\n",
       "    .dataframe thead th {\n",
       "        text-align: right;\n",
       "    }\n",
       "</style>\n",
       "<table border=\"1\" class=\"dataframe\">\n",
       "  <thead>\n",
       "    <tr style=\"text-align: right;\">\n",
       "      <th></th>\n",
       "      <th>company name</th>\n",
       "      <th>description</th>\n",
       "      <th>sec.</th>\n",
       "      <th>cur.</th>\n",
       "      <th>country</th>\n",
       "      <th>symbol</th>\n",
       "    </tr>\n",
       "  </thead>\n",
       "  <tbody>\n",
       "    <tr>\n",
       "      <th>12</th>\n",
       "      <td>Hannon Armstrong</td>\n",
       "      <td>Energy efficiency, capital &amp; finance for infra...</td>\n",
       "      <td>EEF</td>\n",
       "      <td>USD</td>\n",
       "      <td>US</td>\n",
       "      <td>HASI</td>\n",
       "    </tr>\n",
       "    <tr>\n",
       "      <th>29</th>\n",
       "      <td>Universal Display</td>\n",
       "      <td>Organic light emitting diodes, efficient displ...</td>\n",
       "      <td>EEF</td>\n",
       "      <td>USD</td>\n",
       "      <td>US</td>\n",
       "      <td>OLED</td>\n",
       "    </tr>\n",
       "    <tr>\n",
       "      <th>5</th>\n",
       "      <td>Cree Inc.</td>\n",
       "      <td>LED manufacturer power-saving, efficient light...</td>\n",
       "      <td>EEF</td>\n",
       "      <td>USD</td>\n",
       "      <td>US</td>\n",
       "      <td>CREE</td>\n",
       "    </tr>\n",
       "    <tr>\n",
       "      <th>16</th>\n",
       "      <td>Maxeon Solar</td>\n",
       "      <td>Solar panel manufacturer, a spinoff from Sunpo...</td>\n",
       "      <td>RSR</td>\n",
       "      <td>USD</td>\n",
       "      <td>US</td>\n",
       "      <td>MAXN</td>\n",
       "    </tr>\n",
       "    <tr>\n",
       "      <th>26</th>\n",
       "      <td>SunPower</td>\n",
       "      <td>Solar, efficient PV panels with rear-contact c...</td>\n",
       "      <td>RSR</td>\n",
       "      <td>USD</td>\n",
       "      <td>US</td>\n",
       "      <td>SPWR</td>\n",
       "    </tr>\n",
       "  </tbody>\n",
       "</table>\n",
       "</div>"
      ],
      "text/plain": [
       "         company name                                        description sec.  \\\n",
       "12  Hannon Armstrong   Energy efficiency, capital & finance for infra...  EEF   \n",
       "29  Universal Display  Organic light emitting diodes, efficient displ...  EEF   \n",
       "5           Cree Inc.  LED manufacturer power-saving, efficient light...  EEF   \n",
       "16       Maxeon Solar  Solar panel manufacturer, a spinoff from Sunpo...  RSR   \n",
       "26           SunPower  Solar, efficient PV panels with rear-contact c...  RSR   \n",
       "\n",
       "   cur. country symbol  \n",
       "12  USD      US   HASI  \n",
       "29  USD      US   OLED  \n",
       "5   USD      US   CREE  \n",
       "16  USD      US   MAXN  \n",
       "26  USD      US   SPWR  "
      ]
     },
     "execution_count": 21,
     "metadata": {},
     "output_type": "execute_result"
    }
   ],
   "source": [
    "df.sample(5)"
   ]
  },
  {
   "cell_type": "markdown",
   "metadata": {},
   "source": [
    "## Saving the dataframe"
   ]
  },
  {
   "cell_type": "code",
   "execution_count": 20,
   "metadata": {},
   "outputs": [],
   "source": [
    "df['symbol'] = symbols\n",
    "df.to_csv('./Finance_Data/NEX_stocks.csv')"
   ]
  },
  {
   "cell_type": "code",
   "execution_count": null,
   "metadata": {},
   "outputs": [],
   "source": []
  }
 ],
 "metadata": {
  "kernelspec": {
   "display_name": "Python 3",
   "language": "python",
   "name": "python3"
  },
  "language_info": {
   "codemirror_mode": {
    "name": "ipython",
    "version": 3
   },
   "file_extension": ".py",
   "mimetype": "text/x-python",
   "name": "python",
   "nbconvert_exporter": "python",
   "pygments_lexer": "ipython3",
   "version": "3.8.5"
  }
 },
 "nbformat": 4,
 "nbformat_minor": 4
}
