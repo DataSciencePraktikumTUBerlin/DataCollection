{
 "cells": [
  {
   "cell_type": "code",
   "execution_count": 2,
   "metadata": {},
   "outputs": [],
   "source": [
    "import pandas as pd\n",
    "import numpy as np\n",
    "import matplotlib as plt\n",
    "import seaborn as sns"
   ]
  },
  {
   "cell_type": "markdown",
   "metadata": {},
   "source": [
    "read in all .csv-files and combine them to a common dataframe"
   ]
  },
  {
   "cell_type": "code",
   "execution_count": 4,
   "metadata": {},
   "outputs": [],
   "source": [
    "df0 = pd.read_csv('gw welt quaschning/pvPower_01-03.csv')\n",
    "df1 = pd.read_csv('gw welt quaschning/pvPower_04-06.csv')\n",
    "df2 = pd.read_csv('gw welt quaschning/pvPower_07-09.csv')\n",
    "df3 = pd.read_csv('gw welt quaschning/pvPower_10-12.csv')\n",
    "df4 = pd.read_csv('gw welt quaschning/pvPower_13-15.csv')\n",
    "df5 = pd.read_csv('gw welt quaschning/pvPower_16-18.csv')\n",
    "df6 = pd.read_csv('gw welt quaschning/pvPower_19-21.csv')\n",
    "df7 = pd.read_csv('gw welt quaschning/pvPower_98-00.csv')\n",
    "\n",
    "df_all = pd.merge(df7, df0)\n",
    "for frame in [df1, df2, df3, df4, df5, df6]:\n",
    "    df_all = pd.merge(df_all,frame, how='outer')"
   ]
  },
  {
   "cell_type": "markdown",
   "metadata": {},
   "source": [
    "tidy and clean up data. select years from 2000-2019. and give them all the same Power units."
   ]
  },
  {
   "cell_type": "code",
   "execution_count": 5,
   "metadata": {},
   "outputs": [],
   "source": [
    "# replace NaN with 0    \n",
    "df_all = df_all.fillna(0)\n",
    "\n",
    "# select 2000-2019\n",
    "df_all = df_all.drop(['1998', '1999', '2020', '2021'], axis = 1)\n",
    "\n",
    "# bring 2000-2006 from MW to GW\n",
    "df_all.update(df_all.iloc[:, 1:8].div(1000))\n",
    "\n",
    "# restrict dec to 3\n",
    "df_all = np.round(df_all, decimals=3)\n",
    "\n",
    "# save as csv\n",
    "df_all.to_csv('Solar_PV_Power2000-2019.csv', index = True)"
   ]
  },
  {
   "cell_type": "code",
   "execution_count": null,
   "metadata": {},
   "outputs": [],
   "source": []
  }
 ],
 "metadata": {
  "kernelspec": {
   "display_name": "Python 3",
   "language": "python",
   "name": "python3"
  },
  "language_info": {
   "codemirror_mode": {
    "name": "ipython",
    "version": 3
   },
   "file_extension": ".py",
   "mimetype": "text/x-python",
   "name": "python",
   "nbconvert_exporter": "python",
   "pygments_lexer": "ipython3",
   "version": "3.8.5"
  }
 },
 "nbformat": 4,
 "nbformat_minor": 4
}
