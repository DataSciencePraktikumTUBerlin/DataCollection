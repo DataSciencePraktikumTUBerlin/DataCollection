{
 "cells": [
  {
   "cell_type": "markdown",
   "metadata": {},
   "source": [
    "# Preprocessing first selected Datasets\n",
    "Different kinds of Energy information was contemplated to perform the comparison with the financial data in this work. Finally, after comparing different sources and indicator concepts the selected **datasets** were the ones indicated in the file *Indicators_sources.txt*. The arguments for this desicion, instead of the first thought more \"technological\" indicators, lay on the availability and homogeinity of the data first and for most.\n",
    "\n",
    "*VALUES ARE STILL GENERATED AS STRINGS*"
   ]
  },
  {
   "cell_type": "markdown",
   "metadata": {},
   "source": [
    "## 1. Obtaining a *.csv* from the raw source (for every source where needed)\n",
    "This was done manually for the *.xlsx* files. The selected Spreadsheets were selected and saved as *.csv*. Original files are stored in the **raw_data** directory and resulting on the **source_data** directory. (csv UTF-8 format was selected)."
   ]
  },
  {
   "cell_type": "markdown",
   "metadata": {},
   "source": [
    "## 2. Generic preprocessing pipeline for all source files\n",
    "Each step is applied depending on the structure and format of the original table."
   ]
  },
  {
   "cell_type": "markdown",
   "metadata": {},
   "source": [
    "### 2.1 Import pandas"
   ]
  },
  {
   "cell_type": "code",
   "execution_count": 2,
   "metadata": {},
   "outputs": [],
   "source": [
    "import pandas as pd"
   ]
  },
  {
   "cell_type": "markdown",
   "metadata": {},
   "source": [
    "### 2.2 Set particular values"
   ]
  },
  {
   "cell_type": "code",
   "execution_count": 3,
   "metadata": {},
   "outputs": [],
   "source": [
    "source_name = '\\web_ener_balance.csv'\n",
    "# Select Column as Index\n",
    "index = ['Country']\n",
    "# Assign selected indexes\n",
    "sel_index = ['United States', 'India', 'Germany',\"People's Republic of China\"]\n",
    "# Select years\n",
    "years=['2000','2001','2002','2003','2004','2005','2006','2007','2008','2009','2010','2011','2012','2013','2014','2015','2016','2017','2018']\n",
    "# Select other Columns as ID's\n",
    "other_ids = ['Product', 'Flow']"
   ]
  },
  {
   "cell_type": "markdown",
   "metadata": {},
   "source": [
    "### 2.3 Apply all the changes to obtain the desired resumed long dataframe"
   ]
  },
  {
   "cell_type": "code",
   "execution_count": 4,
   "metadata": {},
   "outputs": [],
   "source": [
    "df = pd.read_csv('Energy_Data\\source_data' + source_name)\n",
    "df_p = df[index+years+other_ids]\n",
    "df_p=pd.melt(df_p, id_vars=index+other_ids)\n",
    "df_p=df_p.set_index(index)\n",
    "df_p = df_p.loc[sel_index]\n",
    "df_p=df_p.rename(columns={'variable':'year'})"
   ]
  },
  {
   "cell_type": "code",
   "execution_count": 9,
   "metadata": {},
   "outputs": [
    {
     "data": {
      "text/plain": [
       "Country\n",
       "United States                  536855\n",
       "United States                   10014\n",
       "United States                  -38315\n",
       "United States                  533942\n",
       "United States                 -501585\n",
       "                               ...   \n",
       "People's Republic of China     299944\n",
       "People's Republic of China    5007574\n",
       "People's Republic of China     295000\n",
       "People's Republic of China    1832901\n",
       "People's Republic of China    7148901\n",
       "Name: value, Length: 8512, dtype: object"
      ]
     },
     "execution_count": 9,
     "metadata": {},
     "output_type": "execute_result"
    }
   ],
   "source": [
    "df_p.value"
   ]
  }
 ],
 "metadata": {
  "kernelspec": {
   "display_name": "Python 3",
   "language": "python",
   "name": "python3"
  },
  "language_info": {
   "codemirror_mode": {
    "name": "ipython",
    "version": 3
   },
   "file_extension": ".py",
   "mimetype": "text/x-python",
   "name": "python",
   "nbconvert_exporter": "python",
   "pygments_lexer": "ipython3",
   "version": "3.8.3"
  }
 },
 "nbformat": 4,
 "nbformat_minor": 4
}
